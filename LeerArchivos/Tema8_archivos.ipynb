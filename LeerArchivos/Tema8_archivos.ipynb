{
 "cells": [
  {
   "cell_type": "code",
   "execution_count": 12,
   "id": "0bf4c593",
   "metadata": {},
   "outputs": [
    {
     "name": "stdout",
     "output_type": "stream",
     "text": [
      "a = 2\n",
      "\n",
      "print(a)\n"
     ]
    }
   ],
   "source": [
    "archivo = open(\"testScript.py\", \"r\")\n",
    "\n",
    "contenido = archivo.read()\n",
    "\n",
    "print(contenido)"
   ]
  },
  {
   "cell_type": "code",
   "execution_count": 5,
   "id": "9be243dd",
   "metadata": {},
   "outputs": [
    {
     "name": "stdout",
     "output_type": "stream",
     "text": [
      " \n",
      " \n",
      " \n",
      " \n",
      "Universidad Tecnológica de Cancún  \n",
      "TSU in Information Technology in the area of \n",
      "Multi -Platform Soft ware Development  \n",
      " \n",
      "English V  \n",
      "Teacher : Suastegui Benitez Fernando  \n",
      " \n",
      " Name : Jose Fernando Kumul Herrera  - 21393139  \n",
      "SM53 \n",
      "  \n",
      "\n",
      "WRIT ING 1 : AN INCIDEN T REPORT  \n",
      "Secur ity Threat R eport  \n",
      "Profile  \n",
      "Report ID:  005321 \n",
      "Type:  DoS \n",
      "Date:  4-7-2016  \n",
      "Time:  12:40  \n",
      "Actors  \n",
      "Reported -by: Lucy  \n",
      "Resolved -by: Mike  \n",
      "Further -Consideration:  Security specialist, Knowledge officer  \n",
      "Diagnostic  \n",
      "Description: I noticed that when there are more than 1000 users connected at the same time, \n",
      "the web page is crash . \n",
      "Damage: The web page crash at 12:40  \n",
      "Solution  \n",
      "Actions:  \n",
      "• Increase the power of the servers.  \n",
      " \n",
      "Remarks:  \n",
      "• Now, the business is grows, we must resolve the problem as soon as possible . \n",
      " \n"
     ]
    }
   ],
   "source": [
    "import PyPDF2\n",
    "\n",
    "pdf_file = open('Writing1.pdf', 'rb') \n",
    "\n",
    "pdf_reader = PyPDF2.PdfFileReader(pdf_file)\n",
    "\n",
    "num_pages = pdf_reader.numPages\n",
    "\n",
    "for page_num in range(num_pages):\n",
    "    page = pdf_reader.getPage(page_num)\n",
    "    page_text = page.extractText()\n",
    "    print(page_text)\n",
    "\n",
    "pdf_file.close()"
   ]
  },
  {
   "cell_type": "code",
   "execution_count": 4,
   "id": "d48684af",
   "metadata": {},
   "outputs": [
    {
     "name": "stdout",
     "output_type": "stream",
     "text": [
      "\n",
      "\n",
      "\n",
      "\n",
      "Universidad Tecnológica de Cancún\n",
      "TSU in Information Technology in the area of Multi-Platform Software Development\n",
      "\n",
      "English V\n",
      "Teacher: Suastegui Benitez Fernando\n",
      "\n",
      " Name: Jose Fernando Kumul Herrera - 21393139\n",
      "SM53\n",
      "\n",
      "WRITING 1: AN INCIDENT REPORT\n",
      "\n"
     ]
    }
   ],
   "source": [
    "from docx import Document\n",
    "\n",
    "# Abre el archivo DOCX\n",
    "doc = Document('Writing1.docx')\n",
    "\n",
    "# Lee el texto de cada párrafo\n",
    "for paragraph in doc.paragraphs:\n",
    "    print(paragraph.text)\n"
   ]
  },
  {
   "cell_type": "code",
   "execution_count": 31,
   "id": "40d1de0a",
   "metadata": {},
   "outputs": [
    {
     "name": "stdout",
     "output_type": "stream",
     "text": [
      "Lenguaje de Programación: Año de Publicación\n",
      "Fortran: 1957\n",
      "LISP: 1958\n",
      "COBOL: 1959\n",
      "ALGOL: 1958\n",
      "BASIC: 1964\n",
      "C: 1972\n",
      "Pascal: 1970\n",
      "C++: 1983\n",
      "Perl: 1987\n",
      "Python: 1991\n",
      "Ruby: 1995\n",
      "Java: 1995\n",
      "JavaScript: 1995\n",
      "C#: 2000\n",
      "Swift: 2014\n",
      "Rust: 2010\n",
      "Kotlin: 2011\n",
      "Go: 2009\n",
      "TypeScript: 2012\n"
     ]
    }
   ],
   "source": [
    "import openpyxl\n",
    "\n",
    "# Abre el archivo XLSX\n",
    "archive = openpyxl.load_workbook('Libro1.xlsx')\n",
    "\n",
    "\n",
    "sheet = archive.active\n",
    "\n",
    "for row in sheet.iter_rows(values_only=True):\n",
    "    info = \"\"\n",
    "    for index, cell in enumerate(row):\n",
    "        if index == 0:\n",
    "            info += str(cell)\n",
    "        else:\n",
    "            info += f\": {cell}\"\n",
    "    print(info)\n",
    "\n",
    "# Cierra el archivo\n",
    "archive.close()"
   ]
  }
 ],
 "metadata": {
  "kernelspec": {
   "display_name": "Python 3 (ipykernel)",
   "language": "python",
   "name": "python3"
  },
  "language_info": {
   "codemirror_mode": {
    "name": "ipython",
    "version": 3
   },
   "file_extension": ".py",
   "mimetype": "text/x-python",
   "name": "python",
   "nbconvert_exporter": "python",
   "pygments_lexer": "ipython3",
   "version": "3.11.4"
  }
 },
 "nbformat": 4,
 "nbformat_minor": 5
}
