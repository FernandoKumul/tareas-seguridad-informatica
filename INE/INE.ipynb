{
 "cells": [
  {
   "cell_type": "code",
   "execution_count": 12,
   "id": "9b7cbc25",
   "metadata": {
    "scrolled": true
   },
   "outputs": [
    {
     "name": "stdout",
     "output_type": "stream",
     "text": [
      "Inserta los siguientes datos de tu INE:\n",
      "Nombre completo: JOse fernando kumul herrera\n",
      "Sexo: h\n",
      "Domicilio: c72 my lt23\n",
      "Código Postal: 77519\n",
      "Municipio: Benito juarez\n",
      "Estado: Q.Roo\n",
      "Clave del elector: djkfjkd\n",
      "Curp: djdkdkd\n",
      "Año de registro: 2021 00\n",
      "Fecha de nacimiento: 17/09/2003\n",
      "Sección: 0016\n",
      "Vigencia: 2021 - 2032\n",
      "Nombre\n",
      "sexo\n",
      "Domicilio\n",
      "Código Postal\n",
      "Municipio\n",
      "Estado\n",
      "Clave de elector\n",
      "Curp\n",
      "Año de registro\n",
      "Fecha de nacimiento\n",
      "Sección\n",
      "Vigencia\n"
     ]
    }
   ],
   "source": [
    "datos_ine = {}\n",
    "\n",
    "print(\"Inserta los siguientes datos de tu INE:\")\n",
    "\n",
    "datos_ine['Nombre'] = input(\"Nombre completo: \")\n",
    "datos_ine['sexo'] = input(\"Sexo: \")\n",
    "datos_ine['Domicilio'] = input(\"Domicilio: \")\n",
    "datos_ine['Código Postal'] = input(\"Código Postal: \")\n",
    "datos_ine['Municipio'] = input(\"Municipio: \")\n",
    "datos_ine['Estado'] = input(\"Estado: \")\n",
    "datos_ine['Clave de elector'] = input(\"Clave del elector: \")\n",
    "datos_ine['Curp'] = input(\"Curp: \")\n",
    "datos_ine['Año de registro'] = input(\"Año de registro: \")\n",
    "datos_ine['Fecha de nacimiento'] = input(\"Fecha de nacimiento: \")\n",
    "datos_ine['Sección'] = input(\"Sección: \")\n",
    "datos_ine['Vigencia'] = input(\"Vigencia: \")\n",
    "\n",
    "\n",
    "    \n",
    "with open(\"INE.txt\", \"w\") as archivo:        \n",
    "    for clave, valor in datos_ine.items():\n",
    "        archivo.write(f\"{clave}: {valor}\\n\")\n",
    "\n",
    "print(\"Datos guardados\")\n"
   ]
  },
  {
   "cell_type": "code",
   "execution_count": 13,
   "id": "8b522cd4",
   "metadata": {},
   "outputs": [
    {
     "name": "stdout",
     "output_type": "stream",
     "text": [
      "Nombre: JOse fernando kumul herrera\n",
      "sexo: h\n",
      "Domicilio: c72 my lt23\n",
      "Código Postal: 77519\n",
      "Municipio: Benito juarez\n",
      "Estado: Q.Roo\n",
      "Clave de elector: djkfjkd\n",
      "Curp: djdkdkd\n",
      "Año de registro: 2021 00\n",
      "Fecha de nacimiento: 17/09/2003\n",
      "Sección: 0016\n",
      "Vigencia: 2021 - 2032\n",
      "\n"
     ]
    }
   ],
   "source": [
    "file =  open(\"INE.txt\", \"r\")\n",
    "read = file.read()\n",
    "print(read)"
   ]
  }
 ],
 "metadata": {
  "kernelspec": {
   "display_name": "Python 3 (ipykernel)",
   "language": "python",
   "name": "python3"
  },
  "language_info": {
   "codemirror_mode": {
    "name": "ipython",
    "version": 3
   },
   "file_extension": ".py",
   "mimetype": "text/x-python",
   "name": "python",
   "nbconvert_exporter": "python",
   "pygments_lexer": "ipython3",
   "version": "3.11.4"
  }
 },
 "nbformat": 4,
 "nbformat_minor": 5
}
